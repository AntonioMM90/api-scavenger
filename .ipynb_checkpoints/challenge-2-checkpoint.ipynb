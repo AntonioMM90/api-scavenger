{
 "cells": [
  {
   "cell_type": "code",
   "execution_count": 3,
   "metadata": {},
   "outputs": [
    {
     "data": {
      "text/plain": [
       "True"
      ]
     },
     "execution_count": 3,
     "metadata": {},
     "output_type": "execute_result"
    }
   ],
   "source": [
    "import requests\n",
    "import os\n",
    "from dotenv import load_dotenv\n",
    "load_dotenv()"
   ]
  },
  {
   "cell_type": "code",
   "execution_count": 4,
   "metadata": {},
   "outputs": [],
   "source": [
    "url_c =\"https://api.github.com/repos/ironhack-datalabs/datamad1020-rev/commits\"\n",
    "api_key = \"token\""
   ]
  },
  {
   "cell_type": "code",
   "execution_count": 5,
   "metadata": {},
   "outputs": [
    {
     "name": "stdout",
     "output_type": "stream",
     "text": [
      "d55d009bc0561095610538b028bbe7f24027f39b\n"
     ]
    }
   ],
   "source": [
    "print(os.getenv('token'))"
   ]
  },
  {
   "cell_type": "code",
   "execution_count": 6,
   "metadata": {},
   "outputs": [],
   "source": [
    "def requestGithub(url):\n",
    "    token = os.getenv('token')\n",
    "    if not token:\n",
    "        raise ValueError ('Necesitas un token')\n",
    "    print(f'Haciendo request a {url_c}')\n",
    "    \n",
    "    params = {'Authorization' : f'token {api_key}',\n",
    "             'since' : '2021-03-22'}\n",
    "    response = requests.get( url = url_c , params = params).json()\n",
    "    return response"
   ]
  },
  {
   "cell_type": "code",
   "execution_count": 7,
   "metadata": {},
   "outputs": [
    {
     "name": "stdout",
     "output_type": "stream",
     "text": [
      "Haciendo request a https://api.github.com/repos/ironhack-datalabs/datamad1020-rev/commits\n",
      "[{'sha': '04bc51c0a75f3e6604fe7ac41da8b3c69919f7c3', 'node_id': 'MDY6Q29tbWl0MzA0MjQ4NTM5OjA0YmM1MWMwYTc1ZjNlNjYwNGZlN2FjNDFkYThiM2M2OTkxOWY3YzM=', 'commit': {'author': {'name': 'Ras Soyungalgo', 'email': 'agalvezcorell@gmail.com', 'date': '2021-03-24T18:55:39Z'}, 'committer': {'name': 'Ras Soyungalgo', 'email': 'agalvezcorell@gmail.com', 'date': '2021-03-24T18:55:39Z'}, 'message': 'Hola datamad Part Time ♥️', 'tree': {'sha': '872b8a740d18c3a9abe469f1df7a7c4b26016c48', 'url': 'https://api.github.com/repos/ironhack-datalabs/datamad1020-rev/git/trees/872b8a740d18c3a9abe469f1df7a7c4b26016c48'}, 'url': 'https://api.github.com/repos/ironhack-datalabs/datamad1020-rev/git/commits/04bc51c0a75f3e6604fe7ac41da8b3c69919f7c3', 'comment_count': 0, 'verification': {'verified': False, 'reason': 'unsigned', 'signature': None, 'payload': None}}, 'url': 'https://api.github.com/repos/ironhack-datalabs/datamad1020-rev/commits/04bc51c0a75f3e6604fe7ac41da8b3c69919f7c3', 'html_url': 'https://github.com/ironhack-datalabs/datamad1020-rev/commit/04bc51c0a75f3e6604fe7ac41da8b3c69919f7c3', 'comments_url': 'https://api.github.com/repos/ironhack-datalabs/datamad1020-rev/commits/04bc51c0a75f3e6604fe7ac41da8b3c69919f7c3/comments', 'author': {'login': 'agalvezcorell', 'id': 57899051, 'node_id': 'MDQ6VXNlcjU3ODk5MDUx', 'avatar_url': 'https://avatars.githubusercontent.com/u/57899051?v=4', 'gravatar_id': '', 'url': 'https://api.github.com/users/agalvezcorell', 'html_url': 'https://github.com/agalvezcorell', 'followers_url': 'https://api.github.com/users/agalvezcorell/followers', 'following_url': 'https://api.github.com/users/agalvezcorell/following{/other_user}', 'gists_url': 'https://api.github.com/users/agalvezcorell/gists{/gist_id}', 'starred_url': 'https://api.github.com/users/agalvezcorell/starred{/owner}{/repo}', 'subscriptions_url': 'https://api.github.com/users/agalvezcorell/subscriptions', 'organizations_url': 'https://api.github.com/users/agalvezcorell/orgs', 'repos_url': 'https://api.github.com/users/agalvezcorell/repos', 'events_url': 'https://api.github.com/users/agalvezcorell/events{/privacy}', 'received_events_url': 'https://api.github.com/users/agalvezcorell/received_events', 'type': 'User', 'site_admin': False}, 'committer': {'login': 'agalvezcorell', 'id': 57899051, 'node_id': 'MDQ6VXNlcjU3ODk5MDUx', 'avatar_url': 'https://avatars.githubusercontent.com/u/57899051?v=4', 'gravatar_id': '', 'url': 'https://api.github.com/users/agalvezcorell', 'html_url': 'https://github.com/agalvezcorell', 'followers_url': 'https://api.github.com/users/agalvezcorell/followers', 'following_url': 'https://api.github.com/users/agalvezcorell/following{/other_user}', 'gists_url': 'https://api.github.com/users/agalvezcorell/gists{/gist_id}', 'starred_url': 'https://api.github.com/users/agalvezcorell/starred{/owner}{/repo}', 'subscriptions_url': 'https://api.github.com/users/agalvezcorell/subscriptions', 'organizations_url': 'https://api.github.com/users/agalvezcorell/orgs', 'repos_url': 'https://api.github.com/users/agalvezcorell/repos', 'events_url': 'https://api.github.com/users/agalvezcorell/events{/privacy}', 'received_events_url': 'https://api.github.com/users/agalvezcorell/received_events', 'type': 'User', 'site_admin': False}, 'parents': [{'sha': '62ccb107c540872cb332b10768b890040fb50c1f', 'url': 'https://api.github.com/repos/ironhack-datalabs/datamad1020-rev/commits/62ccb107c540872cb332b10768b890040fb50c1f', 'html_url': 'https://github.com/ironhack-datalabs/datamad1020-rev/commit/62ccb107c540872cb332b10768b890040fb50c1f'}]}]\n"
     ]
    }
   ],
   "source": [
    "respuesta = requestGithub(url_c)\n",
    "print(respuesta)"
   ]
  },
  {
   "cell_type": "code",
   "execution_count": 8,
   "metadata": {},
   "outputs": [
    {
     "data": {
      "text/plain": [
       "1"
      ]
     },
     "execution_count": 8,
     "metadata": {},
     "output_type": "execute_result"
    }
   ],
   "source": [
    "len(respuesta)"
   ]
  },
  {
   "cell_type": "markdown",
   "metadata": {},
   "source": [
    "One commit was made since 22 of March 2021"
   ]
  }
 ],
 "metadata": {
  "kernelspec": {
   "display_name": "Python 3",
   "language": "python",
   "name": "python3"
  },
  "language_info": {
   "codemirror_mode": {
    "name": "ipython",
    "version": 3
   },
   "file_extension": ".py",
   "mimetype": "text/x-python",
   "name": "python",
   "nbconvert_exporter": "python",
   "pygments_lexer": "ipython3",
   "version": "3.9.1"
  }
 },
 "nbformat": 4,
 "nbformat_minor": 4
}
